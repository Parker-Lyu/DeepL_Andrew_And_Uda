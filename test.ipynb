{
 "cells": [
  {
   "cell_type": "code",
   "execution_count": 1,
   "metadata": {
    "collapsed": true
   },
   "outputs": [],
   "source": [
    "import numpy as np"
   ]
  },
  {
   "cell_type": "code",
   "execution_count": 8,
   "metadata": {},
   "outputs": [
    {
     "data": {
      "text/plain": [
       "0"
      ]
     },
     "execution_count": 8,
     "metadata": {},
     "output_type": "execute_result"
    }
   ],
   "source": [
    "cc = np.random.randint(0,1)\n",
    "\n",
    "cc"
   ]
  },
  {
   "cell_type": "code",
   "execution_count": 9,
   "metadata": {},
   "outputs": [
    {
     "name": "stdout",
     "output_type": "stream",
     "text": [
      "1\n",
      "2\n",
      "3\n",
      "4\n",
      "5\n",
      "6\n",
      "7\n",
      "8\n",
      "9\n",
      "10\n"
     ]
    }
   ],
   "source": [
    "for i in range(1,11):\n",
    "    print(i)"
   ]
  },
  {
   "cell_type": "code",
   "execution_count": 7,
   "metadata": {},
   "outputs": [
    {
     "data": {
      "text/plain": [
       "(10,)"
      ]
     },
     "execution_count": 7,
     "metadata": {},
     "output_type": "execute_result"
    }
   ],
   "source": [
    "cc.shape"
   ]
  },
  {
   "cell_type": "code",
   "execution_count": 2,
   "metadata": {},
   "outputs": [
    {
     "name": "stdout",
     "output_type": "stream",
     "text": [
      "[ 0.41405314 -0.53705718]\n",
      "(2,)\n",
      "[1.2322509  2.05189188 1.48746255]\n",
      "(3,)\n"
     ]
    }
   ],
   "source": [
    "a = np.random.normal(size=2)\n",
    "print(a)\n",
    "print(a.shape)\n",
    "b = np.random.normal(size = 3)\n",
    "print(b)\n",
    "print(b.shape)"
   ]
  },
  {
   "cell_type": "code",
   "execution_count": 3,
   "metadata": {},
   "outputs": [
    {
     "data": {
      "text/plain": [
       "array([ 0.41405314, -0.53705718])"
      ]
     },
     "execution_count": 3,
     "metadata": {},
     "output_type": "execute_result"
    }
   ],
   "source": [
    "a"
   ]
  },
  {
   "cell_type": "code",
   "execution_count": 4,
   "metadata": {},
   "outputs": [
    {
     "data": {
      "text/plain": [
       "array([1.2322509 , 2.05189188, 1.48746255])"
      ]
     },
     "execution_count": 4,
     "metadata": {},
     "output_type": "execute_result"
    }
   ],
   "source": [
    "b"
   ]
  },
  {
   "cell_type": "code",
   "execution_count": 5,
   "metadata": {
    "scrolled": true
   },
   "outputs": [
    {
     "data": {
      "text/plain": [
       "array([[1.2322509 ],\n",
       "       [2.05189188],\n",
       "       [1.48746255]])"
      ]
     },
     "execution_count": 5,
     "metadata": {},
     "output_type": "execute_result"
    }
   ],
   "source": [
    "b[:,None]"
   ]
  },
  {
   "cell_type": "code",
   "execution_count": 6,
   "metadata": {},
   "outputs": [
    {
     "data": {
      "text/plain": [
       "(3, 1)"
      ]
     },
     "execution_count": 6,
     "metadata": {},
     "output_type": "execute_result"
    }
   ],
   "source": [
    "b[:,None].shape"
   ]
  },
  {
   "cell_type": "code",
   "execution_count": 7,
   "metadata": {
    "scrolled": false
   },
   "outputs": [
    {
     "data": {
      "text/plain": [
       "array([[ 0.51021736, -0.66178919],\n",
       "       [ 0.84959229, -1.10198327],\n",
       "       [ 0.61588854, -0.79885244]])"
      ]
     },
     "execution_count": 7,
     "metadata": {},
     "output_type": "execute_result"
    }
   ],
   "source": [
    "a*b[:,None]"
   ]
  },
  {
   "cell_type": "code",
   "execution_count": 8,
   "metadata": {},
   "outputs": [
    {
     "data": {
      "text/plain": [
       "array([ 0.7636477 , -0.39620527])"
      ]
     },
     "execution_count": 8,
     "metadata": {},
     "output_type": "execute_result"
    }
   ],
   "source": [
    "c = np.random.normal(size=2)\n",
    "c"
   ]
  },
  {
   "cell_type": "code",
   "execution_count": 9,
   "metadata": {},
   "outputs": [
    {
     "data": {
      "text/plain": [
       "0.5289756162294985"
      ]
     },
     "execution_count": 9,
     "metadata": {},
     "output_type": "execute_result"
    }
   ],
   "source": [
    "np.dot(a,c)"
   ]
  },
  {
   "cell_type": "code",
   "execution_count": 10,
   "metadata": {},
   "outputs": [
    {
     "data": {
      "text/plain": [
       "array([[-0.94627701, -0.31744691,  0.08365969],\n",
       "       [ 0.3159518 , -1.19743653, -0.23504015]])"
      ]
     },
     "execution_count": 10,
     "metadata": {},
     "output_type": "execute_result"
    }
   ],
   "source": [
    "d = np.random.normal(size = [2,3])\n",
    "d"
   ]
  },
  {
   "cell_type": "code",
   "execution_count": 11,
   "metadata": {},
   "outputs": [
    {
     "data": {
      "text/plain": [
       "array([-0.56149315,  0.511652  ,  0.16086956])"
      ]
     },
     "execution_count": 11,
     "metadata": {},
     "output_type": "execute_result"
    }
   ],
   "source": [
    "np.dot(a,d)"
   ]
  },
  {
   "cell_type": "code",
   "execution_count": 19,
   "metadata": {},
   "outputs": [
    {
     "data": {
      "text/plain": [
       "array([[[5, 4, 1, 2, 3, 0, 5, 1],\n",
       "        [3, 5, 3, 1, 4, 3, 4, 0],\n",
       "        [4, 0, 5, 2, 3, 3, 0, 2],\n",
       "        [2, 2, 3, 0, 5, 5, 4, 3]],\n",
       "\n",
       "       [[4, 5, 4, 3, 1, 3, 0, 5],\n",
       "        [3, 4, 1, 5, 1, 3, 1, 1],\n",
       "        [1, 2, 2, 2, 1, 3, 4, 4],\n",
       "        [2, 1, 1, 1, 5, 5, 0, 3]],\n",
       "\n",
       "       [[0, 2, 4, 2, 1, 4, 0, 5],\n",
       "        [2, 4, 3, 0, 1, 2, 0, 1],\n",
       "        [3, 4, 5, 1, 5, 4, 1, 4],\n",
       "        [3, 3, 4, 2, 3, 5, 1, 4]]])"
      ]
     },
     "execution_count": 19,
     "metadata": {},
     "output_type": "execute_result"
    }
   ],
   "source": [
    "aa = np.random.randint(0,6,size=(3,4,8))\n",
    "aa"
   ]
  },
  {
   "cell_type": "code",
   "execution_count": 18,
   "metadata": {},
   "outputs": [
    {
     "data": {
      "text/plain": [
       "array([5, 5, 5])"
      ]
     },
     "execution_count": 18,
     "metadata": {},
     "output_type": "execute_result"
    }
   ],
   "source": [
    "np.max(aa,axis=(1,2))"
   ]
  },
  {
   "cell_type": "code",
   "execution_count": 20,
   "metadata": {},
   "outputs": [
    {
     "data": {
      "text/plain": [
       "array([[[[  8,  29, 201, 109,  42, 127],\n",
       "         [233, 112, 162, 199, 187,  19],\n",
       "         [156,   0, 211,  33, 242, 229],\n",
       "         [ 96,  36, 248, 225,  47, 206],\n",
       "         [ 25, 170, 134,  54, 212, 241]],\n",
       "\n",
       "        [[230, 206,  14, 124,  74,  76],\n",
       "         [ 23,  67, 140,  19, 181, 214],\n",
       "         [206,   8, 237,  59, 109,  48],\n",
       "         [100, 139, 213,  23,  21, 230],\n",
       "         [155,  53, 128,  38,  17, 226]],\n",
       "\n",
       "        [[145,  75,  33,  17, 121, 113],\n",
       "         [126, 184, 225,  44, 173,   3],\n",
       "         [241,  16, 218,   4, 115, 104],\n",
       "         [ 31, 157, 137,  40, 167, 221],\n",
       "         [ 44,  34, 243,  71, 133,  66]],\n",
       "\n",
       "        [[ 27,   7, 214, 230,  90,  68],\n",
       "         [109,  99, 105, 167,  75, 211],\n",
       "         [  6,  10, 137, 152, 114, 234],\n",
       "         [ 81, 219, 145,  39,  69,  76],\n",
       "         [173, 122, 237, 237, 140, 190]]],\n",
       "\n",
       "\n",
       "       [[[145,  91,  80, 131, 212, 176],\n",
       "         [106, 198, 252, 196, 246,  77],\n",
       "         [237,  33, 196,   4, 164, 153],\n",
       "         [187,  63, 203, 178, 116, 193],\n",
       "         [147, 116,  81, 164, 230, 164]],\n",
       "\n",
       "        [[ 74,  75, 233, 232, 254,  57],\n",
       "         [ 56,  28, 169, 217, 133,  52],\n",
       "         [ 25,  84, 155,   5, 215,  26],\n",
       "         [ 22, 115, 218, 140,  95, 236],\n",
       "         [ 51, 196,  30, 190, 172,  15]],\n",
       "\n",
       "        [[135, 196, 137, 227, 106, 135],\n",
       "         [232, 201, 123, 150, 227,  38],\n",
       "         [ 58, 236, 163,  91,  94, 109],\n",
       "         [248,  30, 235, 164, 148,  89],\n",
       "         [101,   6, 161, 234,  90, 201]],\n",
       "\n",
       "        [[106, 238,  73,  55, 145, 195],\n",
       "         [164,  61, 249,  76,  29, 176],\n",
       "         [223,   4,  84,  39,  39,  40],\n",
       "         [ 22, 169,  19, 180, 164, 179],\n",
       "         [111, 186, 250, 134,  59,   7]]]])"
      ]
     },
     "execution_count": 20,
     "metadata": {},
     "output_type": "execute_result"
    }
   ],
   "source": [
    "test_shape = (np.random.choice(range(3)), 4, 5, 6)\n",
    "test_numbers = np.random.choice(range(256), test_shape)\n",
    "test_numbers"
   ]
  },
  {
   "cell_type": "code",
   "execution_count": null,
   "metadata": {
    "collapsed": true
   },
   "outputs": [],
   "source": []
  }
 ],
 "metadata": {
  "kernelspec": {
   "display_name": "Python 3",
   "language": "python",
   "name": "python3"
  },
  "language_info": {
   "codemirror_mode": {
    "name": "ipython",
    "version": 3
   },
   "file_extension": ".py",
   "mimetype": "text/x-python",
   "name": "python",
   "nbconvert_exporter": "python",
   "pygments_lexer": "ipython3",
   "version": "3.6.2"
  }
 },
 "nbformat": 4,
 "nbformat_minor": 2
}
