{
 "cells": [
  {
   "cell_type": "markdown",
   "metadata": {},
   "source": [
    "# Anna KaRNNa\n",
    "\n",
    "In this notebook, we'll build a character-wise RNN trained on Anna Karenina, one of my all-time favorite books. It'll be able to generate new text based on the text from the book.\n",
    "\n",
    "This network is based off of Andrej Karpathy's [post on RNNs](http://karpathy.github.io/2015/05/21/rnn-effectiveness/) and [implementation in Torch](https://github.com/karpathy/char-rnn). Also, some information [here at r2rt](http://r2rt.com/recurrent-neural-networks-in-tensorflow-ii.html) and from [Sherjil Ozair](https://github.com/sherjilozair/char-rnn-tensorflow) on GitHub. Below is the general architecture of the character-wise RNN.\n",
    "\n",
    "<img src=\"assets/charseq.jpeg\" width=\"500\">"
   ]
  },
  {
   "cell_type": "code",
   "execution_count": 1,
   "metadata": {
    "collapsed": true
   },
   "outputs": [],
   "source": [
    "import time\n",
    "from collections import namedtuple\n",
    "\n",
    "import numpy as np\n",
    "import tensorflow as tf"
   ]
  },
  {
   "cell_type": "markdown",
   "metadata": {},
   "source": [
    "First we'll load the text file and convert it into integers for our network to use. Here I'm creating a couple dictionaries to convert the characters to and from integers. Encoding the characters as integers makes it easier to use as input in the network."
   ]
  },
  {
   "cell_type": "code",
   "execution_count": 2,
   "metadata": {},
   "outputs": [
    {
     "data": {
      "text/plain": [
       "{'\\n',\n",
       " ' ',\n",
       " '!',\n",
       " '\"',\n",
       " '$',\n",
       " '%',\n",
       " '&',\n",
       " \"'\",\n",
       " '(',\n",
       " ')',\n",
       " '*',\n",
       " ',',\n",
       " '-',\n",
       " '.',\n",
       " '/',\n",
       " '0',\n",
       " '1',\n",
       " '2',\n",
       " '3',\n",
       " '4',\n",
       " '5',\n",
       " '6',\n",
       " '7',\n",
       " '8',\n",
       " '9',\n",
       " ':',\n",
       " ';',\n",
       " '?',\n",
       " '@',\n",
       " 'A',\n",
       " 'B',\n",
       " 'C',\n",
       " 'D',\n",
       " 'E',\n",
       " 'F',\n",
       " 'G',\n",
       " 'H',\n",
       " 'I',\n",
       " 'J',\n",
       " 'K',\n",
       " 'L',\n",
       " 'M',\n",
       " 'N',\n",
       " 'O',\n",
       " 'P',\n",
       " 'Q',\n",
       " 'R',\n",
       " 'S',\n",
       " 'T',\n",
       " 'U',\n",
       " 'V',\n",
       " 'W',\n",
       " 'X',\n",
       " 'Y',\n",
       " 'Z',\n",
       " '_',\n",
       " '`',\n",
       " 'a',\n",
       " 'b',\n",
       " 'c',\n",
       " 'd',\n",
       " 'e',\n",
       " 'f',\n",
       " 'g',\n",
       " 'h',\n",
       " 'i',\n",
       " 'j',\n",
       " 'k',\n",
       " 'l',\n",
       " 'm',\n",
       " 'n',\n",
       " 'o',\n",
       " 'p',\n",
       " 'q',\n",
       " 'r',\n",
       " 's',\n",
       " 't',\n",
       " 'u',\n",
       " 'v',\n",
       " 'w',\n",
       " 'x',\n",
       " 'y',\n",
       " 'z'}"
      ]
     },
     "execution_count": 2,
     "metadata": {},
     "output_type": "execute_result"
    }
   ],
   "source": [
    "with open('anna.txt','r') as f:\n",
    "    text = f.read()\n",
    "vocab = set(text)\n",
    "vocab"
   ]
  },
  {
   "cell_type": "code",
   "execution_count": 3,
   "metadata": {},
   "outputs": [
    {
     "data": {
      "text/plain": [
       "{'\\n': 9,\n",
       " ' ': 39,\n",
       " '!': 57,\n",
       " '\"': 37,\n",
       " '$': 56,\n",
       " '%': 16,\n",
       " '&': 4,\n",
       " \"'\": 67,\n",
       " '(': 60,\n",
       " ')': 74,\n",
       " '*': 75,\n",
       " ',': 36,\n",
       " '-': 79,\n",
       " '.': 7,\n",
       " '/': 3,\n",
       " '0': 61,\n",
       " '1': 14,\n",
       " '2': 25,\n",
       " '3': 10,\n",
       " '4': 45,\n",
       " '5': 70,\n",
       " '6': 21,\n",
       " '7': 41,\n",
       " '8': 80,\n",
       " '9': 68,\n",
       " ':': 29,\n",
       " ';': 42,\n",
       " '?': 49,\n",
       " '@': 31,\n",
       " 'A': 76,\n",
       " 'B': 66,\n",
       " 'C': 8,\n",
       " 'D': 58,\n",
       " 'E': 27,\n",
       " 'F': 35,\n",
       " 'G': 51,\n",
       " 'H': 26,\n",
       " 'I': 50,\n",
       " 'J': 22,\n",
       " 'K': 1,\n",
       " 'L': 13,\n",
       " 'M': 81,\n",
       " 'N': 52,\n",
       " 'O': 23,\n",
       " 'P': 12,\n",
       " 'Q': 24,\n",
       " 'R': 62,\n",
       " 'S': 0,\n",
       " 'T': 77,\n",
       " 'U': 69,\n",
       " 'V': 54,\n",
       " 'W': 65,\n",
       " 'X': 55,\n",
       " 'Y': 47,\n",
       " 'Z': 40,\n",
       " '_': 64,\n",
       " '`': 71,\n",
       " 'a': 78,\n",
       " 'b': 44,\n",
       " 'c': 38,\n",
       " 'd': 72,\n",
       " 'e': 2,\n",
       " 'f': 32,\n",
       " 'g': 82,\n",
       " 'h': 73,\n",
       " 'i': 19,\n",
       " 'j': 28,\n",
       " 'k': 11,\n",
       " 'l': 59,\n",
       " 'm': 30,\n",
       " 'n': 6,\n",
       " 'o': 17,\n",
       " 'p': 15,\n",
       " 'q': 48,\n",
       " 'r': 63,\n",
       " 's': 5,\n",
       " 't': 18,\n",
       " 'u': 46,\n",
       " 'v': 34,\n",
       " 'w': 20,\n",
       " 'x': 33,\n",
       " 'y': 43,\n",
       " 'z': 53}"
      ]
     },
     "execution_count": 3,
     "metadata": {},
     "output_type": "execute_result"
    }
   ],
   "source": [
    "vocab_to_int = {c:i for i ,c in enumerate(vocab)}\n",
    "vocab_to_int"
   ]
  },
  {
   "cell_type": "code",
   "execution_count": 4,
   "metadata": {},
   "outputs": [
    {
     "data": {
      "text/plain": [
       "{0: 'S',\n",
       " 1: 'K',\n",
       " 2: 'e',\n",
       " 3: '/',\n",
       " 4: '&',\n",
       " 5: 's',\n",
       " 6: 'n',\n",
       " 7: '.',\n",
       " 8: 'C',\n",
       " 9: '\\n',\n",
       " 10: '3',\n",
       " 11: 'k',\n",
       " 12: 'P',\n",
       " 13: 'L',\n",
       " 14: '1',\n",
       " 15: 'p',\n",
       " 16: '%',\n",
       " 17: 'o',\n",
       " 18: 't',\n",
       " 19: 'i',\n",
       " 20: 'w',\n",
       " 21: '6',\n",
       " 22: 'J',\n",
       " 23: 'O',\n",
       " 24: 'Q',\n",
       " 25: '2',\n",
       " 26: 'H',\n",
       " 27: 'E',\n",
       " 28: 'j',\n",
       " 29: ':',\n",
       " 30: 'm',\n",
       " 31: '@',\n",
       " 32: 'f',\n",
       " 33: 'x',\n",
       " 34: 'v',\n",
       " 35: 'F',\n",
       " 36: ',',\n",
       " 37: '\"',\n",
       " 38: 'c',\n",
       " 39: ' ',\n",
       " 40: 'Z',\n",
       " 41: '7',\n",
       " 42: ';',\n",
       " 43: 'y',\n",
       " 44: 'b',\n",
       " 45: '4',\n",
       " 46: 'u',\n",
       " 47: 'Y',\n",
       " 48: 'q',\n",
       " 49: '?',\n",
       " 50: 'I',\n",
       " 51: 'G',\n",
       " 52: 'N',\n",
       " 53: 'z',\n",
       " 54: 'V',\n",
       " 55: 'X',\n",
       " 56: '$',\n",
       " 57: '!',\n",
       " 58: 'D',\n",
       " 59: 'l',\n",
       " 60: '(',\n",
       " 61: '0',\n",
       " 62: 'R',\n",
       " 63: 'r',\n",
       " 64: '_',\n",
       " 65: 'W',\n",
       " 66: 'B',\n",
       " 67: \"'\",\n",
       " 68: '9',\n",
       " 69: 'U',\n",
       " 70: '5',\n",
       " 71: '`',\n",
       " 72: 'd',\n",
       " 73: 'h',\n",
       " 74: ')',\n",
       " 75: '*',\n",
       " 76: 'A',\n",
       " 77: 'T',\n",
       " 78: 'a',\n",
       " 79: '-',\n",
       " 80: '8',\n",
       " 81: 'M',\n",
       " 82: 'g'}"
      ]
     },
     "execution_count": 4,
     "metadata": {},
     "output_type": "execute_result"
    }
   ],
   "source": [
    "dict(enumerate(vocab))"
   ]
  },
  {
   "cell_type": "code",
   "execution_count": 5,
   "metadata": {},
   "outputs": [
    {
     "data": {
      "text/plain": [
       "array([ 8, 73, 78, ...,  5,  7,  9])"
      ]
     },
     "execution_count": 5,
     "metadata": {},
     "output_type": "execute_result"
    }
   ],
   "source": [
    "encoded = np.array([vocab_to_int[c] for c in text])\n",
    "encoded"
   ]
  },
  {
   "cell_type": "code",
   "execution_count": 6,
   "metadata": {
    "collapsed": true
   },
   "outputs": [],
   "source": [
    "with open('anna.txt', 'r') as f:\n",
    "    text=f.read()\n",
    "vocab = set(text)\n",
    "vocab_to_int = {c: i for i, c in enumerate(vocab)}\n",
    "int_to_vocab = dict(enumerate(vocab))\n",
    "encoded = np.array([vocab_to_int[c] for c in text], dtype=np.int32)"
   ]
  },
  {
   "cell_type": "markdown",
   "metadata": {},
   "source": [
    "Let's check out the first 100 characters, make sure everything is peachy. According to the [American Book Review](http://americanbookreview.org/100bestlines.asp), this is the 6th best first line of a book ever."
   ]
  },
  {
   "cell_type": "code",
   "execution_count": 7,
   "metadata": {},
   "outputs": [
    {
     "data": {
      "text/plain": [
       "'Chapter 1\\n\\n\\nHappy families are all alike; every unhappy family is unhappy in its own\\nway.\\n\\nEverythin'"
      ]
     },
     "execution_count": 7,
     "metadata": {},
     "output_type": "execute_result"
    }
   ],
   "source": [
    "text[:100]"
   ]
  },
  {
   "cell_type": "markdown",
   "metadata": {},
   "source": [
    "And we can see the characters encoded as integers."
   ]
  },
  {
   "cell_type": "code",
   "execution_count": 8,
   "metadata": {},
   "outputs": [
    {
     "data": {
      "text/plain": [
       "array([ 8, 73, 78, 15, 18,  2, 63, 39, 14,  9,  9,  9, 26, 78, 15, 15, 43,\n",
       "       39, 32, 78, 30, 19, 59, 19,  2,  5, 39, 78, 63,  2, 39, 78, 59, 59,\n",
       "       39, 78, 59, 19, 11,  2, 42, 39,  2, 34,  2, 63, 43, 39, 46,  6, 73,\n",
       "       78, 15, 15, 43, 39, 32, 78, 30, 19, 59, 43, 39, 19,  5, 39, 46,  6,\n",
       "       73, 78, 15, 15, 43, 39, 19,  6, 39, 19, 18,  5, 39, 17, 20,  6,  9,\n",
       "       20, 78, 43,  7,  9,  9, 27, 34,  2, 63, 43, 18, 73, 19,  6])"
      ]
     },
     "execution_count": 8,
     "metadata": {},
     "output_type": "execute_result"
    }
   ],
   "source": [
    "encoded[:100]"
   ]
  },
  {
   "cell_type": "markdown",
   "metadata": {},
   "source": [
    "Since the network is working with individual characters, it's similar to a classification problem in which we are trying to predict the next character from the previous text.  Here's how many 'classes' our network has to pick from."
   ]
  },
  {
   "cell_type": "code",
   "execution_count": 9,
   "metadata": {},
   "outputs": [
    {
     "data": {
      "text/plain": [
       "83"
      ]
     },
     "execution_count": 9,
     "metadata": {},
     "output_type": "execute_result"
    }
   ],
   "source": [
    "len(vocab)"
   ]
  },
  {
   "cell_type": "markdown",
   "metadata": {},
   "source": [
    "## Making training mini-batches\n",
    "\n",
    "Here is where we'll make our mini-batches for training. Remember that we want our batches to be multiple sequences of some desired number of sequence steps. Considering a simple example, our batches would look like this:\n",
    "\n",
    "<img src=\"assets/sequence_batching@1x.png\" width=500px>\n",
    "\n",
    "\n",
    "<br>\n",
    "We have our text encoded as integers as one long array in `encoded`. Let's create a function that will give us an iterator for our batches. I like using [generator functions](https://jeffknupp.com/blog/2013/04/07/improve-your-python-yield-and-generators-explained/) to do this. Then we can pass `encoded` into this function and get our batch generator.\n",
    "\n",
    "The first thing we need to do is discard some of the text so we only have completely full batches. Each batch contains $N \\times M$ characters, where $N$ is the batch size (the number of sequences) and $M$ is the number of steps. Then, to get the number of batches we can make from some array `arr`, you divide the length of `arr` by the batch size. Once you know the number of batches and the batch size, you can get the total number of characters to keep.\n",
    "\n",
    "After that, we need to split `arr` into $N$ sequences. You can do this using `arr.reshape(size)` where `size` is a tuple containing the dimensions sizes of the reshaped array. We know we want $N$ sequences (`n_seqs` below), let's make that the size of the first dimension. For the second dimension, you can use `-1` as a placeholder in the size, it'll fill up the array with the appropriate data for you. After this, you should have an array that is $N \\times (M * K)$ where $K$ is the number of batches.\n",
    "\n",
    "Now that we have this array, we can iterate through it to get our batches. The idea is each batch is a $N \\times M$ window on the array. For each subsequent batch, the window moves over by `n_steps`. We also want to create both the input and target arrays. Remember that the targets are the inputs shifted over one character. You'll usually see the first input character used as the last target character, so something like this:\n",
    "```python\n",
    "y[:, :-1], y[:, -1] = x[:, 1:], x[:, 0]\n",
    "```\n",
    "where `x` is the input batch and `y` is the target batch.\n",
    "\n",
    "The way I like to do this window is use `range` to take steps of size `n_steps` from $0$ to `arr.shape[1]`, the total number of steps in each sequence. That way, the integers you get from `range` always point to the start of a batch, and each window is `n_steps` wide.\n",
    "\n",
    "> **Exercise:** Write the code for creating batches in the function below. The exercises in this notebook _will not be easy_. I've provided a notebook with solutions alongside this notebook. If you get stuck, checkout the solutions. The most important thing is that you don't copy and paste the code into here, **type out the solution code yourself.**"
   ]
  },
  {
   "cell_type": "code",
   "execution_count": 10,
   "metadata": {
    "collapsed": true
   },
   "outputs": [],
   "source": [
    "def get_batches(arr, n_seqs, n_steps):\n",
    "    '''Create a generator that returns batches of size\n",
    "       n_seqs x n_steps from arr.\n",
    "       \n",
    "       Arguments\n",
    "       ---------\n",
    "       arr: Array you want to make batches from\n",
    "       n_seqs: Batch size, the number of sequences per batch\n",
    "       n_steps: Number of sequence steps per batch\n",
    "    '''\n",
    "    # Get the number of characters per batch and number of batches we can make\n",
    "    characters_per_batch = n_seqs * n_steps\n",
    "    n_batches = len(arr)//characters_per_batch\n",
    "    \n",
    "    # Keep only enough characters to make full batches\n",
    "    arr = arr[:characters_per_batch * n_batches]\n",
    "    \n",
    "    # Reshape into n_seqs rows\n",
    "    arr = arr.reshape((n_seqs,-1))\n",
    "    \n",
    "    for n in range(0, arr.shape[1], n_steps):\n",
    "        # The features\n",
    "        x = arr[:,n:n+n_steps]\n",
    "        # The targets, shifted by one\n",
    "        y = np.zeros_like(x)\n",
    "        y[:,:-1] ,y[:,-1] = x[:,1:], x[:,0]\n",
    "        yield x, y"
   ]
  },
  {
   "cell_type": "markdown",
   "metadata": {},
   "source": [
    "Now I'll make my data sets and we can check out what's going on here. Here I'm going to use a batch size of 10 and 50 sequence steps."
   ]
  },
  {
   "cell_type": "code",
   "execution_count": 11,
   "metadata": {
    "collapsed": true
   },
   "outputs": [],
   "source": [
    "batches = get_batches(encoded, 10, 50)\n",
    "x, y = next(batches)"
   ]
  },
  {
   "cell_type": "code",
   "execution_count": 12,
   "metadata": {},
   "outputs": [
    {
     "name": "stdout",
     "output_type": "stream",
     "text": [
      "x\n",
      " [[ 8 73 78 15 18  2 63 39 14  9]\n",
      " [39 78 30 39  6 17 18 39 82 17]\n",
      " [34 19  6  7  9  9 37 47  2  5]\n",
      " [ 6 39 72 46 63 19  6 82 39 73]\n",
      " [39 19 18 39 19  5 36 39  5 19]\n",
      " [39 50 18 39 20 78  5  9 17  6]\n",
      " [73  2  6 39 38 17 30  2 39 32]\n",
      " [42 39 44 46 18 39  6 17 20 39]\n",
      " [18 39 19  5  6 67 18  7 39 77]\n",
      " [39  5 78 19 72 39 18 17 39 73]]\n",
      "\n",
      "y\n",
      " [[73 78 15 18  2 63 39 14  9  9]\n",
      " [78 30 39  6 17 18 39 82 17 19]\n",
      " [19  6  7  9  9 37 47  2  5 36]\n",
      " [39 72 46 63 19  6 82 39 73 19]\n",
      " [19 18 39 19  5 36 39  5 19 63]\n",
      " [50 18 39 20 78  5  9 17  6 59]\n",
      " [ 2  6 39 38 17 30  2 39 32 17]\n",
      " [39 44 46 18 39  6 17 20 39  5]\n",
      " [39 19  5  6 67 18  7 39 77 73]\n",
      " [ 5 78 19 72 39 18 17 39 73  2]]\n"
     ]
    }
   ],
   "source": [
    "print('x\\n', x[:10, :10])\n",
    "print('\\ny\\n', y[:10, :10])"
   ]
  },
  {
   "cell_type": "markdown",
   "metadata": {},
   "source": [
    "If you implemented `get_batches` correctly, the above output should look something like \n",
    "```\n",
    "x\n",
    " [[55 63 69 22  6 76 45  5 16 35]\n",
    " [ 5 69  1  5 12 52  6  5 56 52]\n",
    " [48 29 12 61 35 35  8 64 76 78]\n",
    " [12  5 24 39 45 29 12 56  5 63]\n",
    " [ 5 29  6  5 29 78 28  5 78 29]\n",
    " [ 5 13  6  5 36 69 78 35 52 12]\n",
    " [63 76 12  5 18 52  1 76  5 58]\n",
    " [34  5 73 39  6  5 12 52 36  5]\n",
    " [ 6  5 29 78 12 79  6 61  5 59]\n",
    " [ 5 78 69 29 24  5  6 52  5 63]]\n",
    "\n",
    "y\n",
    " [[63 69 22  6 76 45  5 16 35 35]\n",
    " [69  1  5 12 52  6  5 56 52 29]\n",
    " [29 12 61 35 35  8 64 76 78 28]\n",
    " [ 5 24 39 45 29 12 56  5 63 29]\n",
    " [29  6  5 29 78 28  5 78 29 45]\n",
    " [13  6  5 36 69 78 35 52 12 43]\n",
    " [76 12  5 18 52  1 76  5 58 52]\n",
    " [ 5 73 39  6  5 12 52 36  5 78]\n",
    " [ 5 29 78 12 79  6 61  5 59 63]\n",
    " [78 69 29 24  5  6 52  5 63 76]]\n",
    " ```\n",
    " although the exact numbers will be different. Check to make sure the data is shifted over one step for `y`."
   ]
  },
  {
   "cell_type": "markdown",
   "metadata": {},
   "source": [
    "## Building the model\n",
    "\n",
    "Below is where you'll build the network. We'll break it up into parts so it's easier to reason about each bit. Then we can connect them up into the whole network.\n",
    "\n",
    "<img src=\"assets/charRNN.png\" width=500px>\n",
    "\n",
    "\n",
    "### Inputs\n",
    "\n",
    "First off we'll create our input placeholders. As usual we need placeholders for the training data and the targets. We'll also create a placeholder for dropout layers called `keep_prob`. This will be a scalar, that is a 0-D tensor. To make a scalar, you create a placeholder without giving it a size.\n",
    "\n",
    "> **Exercise:** Create the input placeholders in the function below."
   ]
  },
  {
   "cell_type": "code",
   "execution_count": 13,
   "metadata": {
    "collapsed": true
   },
   "outputs": [],
   "source": [
    "def build_inputs(batch_size, num_steps):\n",
    "    ''' Define placeholders for inputs, targets, and dropout \n",
    "    \n",
    "        Arguments\n",
    "        ---------\n",
    "        batch_size: Batch size, number of sequences per batch\n",
    "        num_steps: Number of sequence steps in a batch\n",
    "        \n",
    "    '''\n",
    "    # Declare placeholders we'll feed into the graph\n",
    "    inputs = tf.placeholder(tf.int32,[batch_size, num_steps],name='inputs')\n",
    "    targets = tf.placeholder(tf.int32, [batch_size, num_steps], name='inputs')\n",
    "    \n",
    "    # Keep probability placeholder for drop out layers\n",
    "    keep_prob = tf.placeholder(tf.float32, name='keep_prob')\n",
    "    \n",
    "    return inputs, targets, keep_prob"
   ]
  },
  {
   "cell_type": "markdown",
   "metadata": {},
   "source": [
    "### LSTM Cell\n",
    "\n",
    "Here we will create the LSTM cell we'll use in the hidden layer. We'll use this cell as a building block for the RNN. So we aren't actually defining the RNN here, just the type of cell we'll use in the hidden layer.\n",
    "\n",
    "We first create a basic LSTM cell with\n",
    "\n",
    "```python\n",
    "lstm = tf.contrib.rnn.BasicLSTMCell(num_units)\n",
    "```\n",
    "\n",
    "where `num_units` is the number of units in the hidden layers in the cell. Then we can add dropout by wrapping it with \n",
    "\n",
    "```python\n",
    "tf.contrib.rnn.DropoutWrapper(lstm, output_keep_prob=keep_prob)\n",
    "```\n",
    "You pass in a cell and it will automatically add dropout to the inputs or outputs. Finally, we can stack up the LSTM cells into layers with [`tf.contrib.rnn.MultiRNNCell`](https://www.tensorflow.org/versions/r1.0/api_docs/python/tf/contrib/rnn/MultiRNNCell). With this, you pass in a list of cells and it will send the output of one cell into the next cell. For example,\n",
    "\n",
    "```python\n",
    "tf.contrib.rnn.MultiRNNCell([cell]*num_layers)\n",
    "```\n",
    "\n",
    "This might look a little weird if you know Python well because this will create a list of the same `cell` object. However, TensorFlow will create different weight matrices for all `cell` objects. Even though this is actually multiple LSTM cells stacked on each other, you can treat the multiple layers as one cell.\n",
    "\n",
    "We also need to create an initial cell state of all zeros. This can be done like so\n",
    "\n",
    "```python\n",
    "initial_state = cell.zero_state(batch_size, tf.float32)\n",
    "```\n",
    "\n",
    "> **Exercise:** Below, implement the `build_lstm` function to create these LSTM cells and the initial state."
   ]
  },
  {
   "cell_type": "code",
   "execution_count": 14,
   "metadata": {
    "collapsed": true
   },
   "outputs": [],
   "source": [
    "def build_lstm(lstm_size, num_layers, batch_size, keep_prob):\n",
    "    ''' Build LSTM cell.\n",
    "    \n",
    "        Arguments\n",
    "        ---------\n",
    "        keep_prob: Scalar tensor (tf.placeholder) for the dropout keep probability\n",
    "        lstm_size: Size of the hidden layers in the LSTM cells\n",
    "        num_layers: Number of LSTM layers\n",
    "        batch_size: Batch size\n",
    "\n",
    "    ''' \n",
    "    def get_cell():\n",
    "        lstm = tf.nn.rnn_cell.BasicLSTMCell(lstm_size)\n",
    "        return tf.nn.rnn_cell.DropoutWrapper(lstm, output_keep_prob=keep_prob)\n",
    "    # Stack up multiple LSTM layers, for deep learning\n",
    "    cell = tf.nn.rnn_cell.MultiRNNCell([get_cell() for n in range(num_layers)])\n",
    "    initial_state = cell.zero_state(batch_size,tf.float32)\n",
    "    \n",
    "    return cell, initial_state"
   ]
  },
  {
   "cell_type": "markdown",
   "metadata": {},
   "source": [
    "### RNN Output\n",
    "\n",
    "Here we'll create the output layer. We need to connect the output of the RNN cells to a full connected layer with a softmax output. The softmax output gives us a probability distribution we can use to predict the next character, so we want this layer to have size $C$, the number of classes/characters we have in our text.\n",
    "\n",
    "If our input has batch size $N$, number of steps $M$, and the hidden layer has $L$ hidden units, then the output is a 3D tensor with size $N \\times M \\times L$. The output of each LSTM cell has size $L$, we have $M$ of them, one for each sequence step, and we have $N$ sequences. So the total size is $N \\times M \\times L$. \n",
    "\n",
    "We are using the same fully connected layer, the same weights, for each of the outputs. Then, to make things easier, we should reshape the outputs into a 2D tensor with shape $(M * N) \\times L$. That is, one row for each sequence and step, where the values of each row are the output from the LSTM cells. We get the LSTM output as a list, `lstm_output`. First we need to concatenate this whole list into one array with [`tf.concat`](https://www.tensorflow.org/api_docs/python/tf/concat). Then, reshape it (with `tf.reshape`) to size $(M * N) \\times L$.\n",
    "\n",
    "One we have the outputs reshaped, we can do the matrix multiplication with the weights. We need to wrap the weight and bias variables in a variable scope with `tf.variable_scope(scope_name)` because there are weights being created in the LSTM cells. TensorFlow will throw an error if the weights created here have the same names as the weights created in the LSTM cells, which they will be default. To avoid this, we wrap the variables in a variable scope so we can give them unique names.\n",
    "\n",
    "> **Exercise:** Implement the output layer in the function below."
   ]
  },
  {
   "cell_type": "code",
   "execution_count": 15,
   "metadata": {
    "collapsed": true
   },
   "outputs": [],
   "source": [
    "def build_output(lstm_output, in_size, out_size):\n",
    "    ''' Build a softmax layer, return the softmax output and logits.\n",
    "    \n",
    "        Arguments\n",
    "        ---------\n",
    "        \n",
    "        lstm_output: List of output tensors from the LSTM layer\n",
    "        in_size: Size of the input tensor, for example, size of the LSTM cells\n",
    "        out_size: Size of this softmax layer\n",
    "    \n",
    "    '''\n",
    "\n",
    "    # Reshape output so it's a bunch of rows, one row for each step for each sequence.\n",
    "    # Concatenate lstm_output over axis 1 (the columns)\n",
    "    seq_output = tf.concat(lstm_output, axis=1)\n",
    "    # Reshape seq_output to a 2D tensor with lstm_size columns\n",
    "    x = tf.reshape(seq_output, [-1, in_size])\n",
    "    \n",
    "    # Connect the RNN outputs to a softmax layer\n",
    "    with tf.variable_scope('softmax'):\n",
    "        # Create the weight and bias variables here\n",
    "        softmax_w = tf.Variable(tf.truncated_normal((in_size,out_size),stddev = in_size**-0.5))\n",
    "        softmax_b = tf.Variable(tf.zeros(out_size))\n",
    "    \n",
    "    # Since output is a bunch of rows of RNN cell outputs, logits will be a bunch\n",
    "    # of rows of logit outputs, one for each step and sequence\n",
    "    logits = tf.matmul(x,softmax_w) + softmax_b\n",
    "    \n",
    "    # Use softmax to get the probabilities for predicted characters\n",
    "    out = tf.nn.softmax(logits, name='predictions')\n",
    "    \n",
    "    return out, logits"
   ]
  },
  {
   "cell_type": "markdown",
   "metadata": {},
   "source": [
    "### Training loss\n",
    "\n",
    "Next up is the training loss. We get the logits and targets and calculate the softmax cross-entropy loss. First we need to one-hot encode the targets, we're getting them as encoded characters. Then, reshape the one-hot targets so it's a 2D tensor with size $(M*N) \\times C$ where $C$ is the number of classes/characters we have. Remember that we reshaped the LSTM outputs and ran them through a fully connected layer with $C$ units. So our logits will also have size $(M*N) \\times C$.\n",
    "\n",
    "Then we run the logits and targets through `tf.nn.softmax_cross_entropy_with_logits` and find the mean to get the loss.\n",
    "\n",
    ">**Exercise:** Implement the loss calculation in the function below."
   ]
  },
  {
   "cell_type": "code",
   "execution_count": 16,
   "metadata": {
    "collapsed": true
   },
   "outputs": [],
   "source": [
    "def build_loss(logits, targets, lstm_size, num_classes):\n",
    "    ''' Calculate the loss from the logits and the targets.\n",
    "    \n",
    "        Arguments\n",
    "        ---------\n",
    "        logits: Logits from final fully connected layer\n",
    "        targets: Targets for supervised learning\n",
    "        lstm_size: Number of LSTM hidden units\n",
    "        num_classes: Number of classes in targets\n",
    "        \n",
    "    '''\n",
    "    \n",
    "    # One-hot encode targets and reshape to match logits, one row per sequence per step\n",
    "    y_one_hot = tf.one_hot(targets, num_classes)\n",
    "    print(y_one_hot.get_shape())\n",
    "    y_reshaped =  tf.reshape(y_one_hot, logits.get_shape())\n",
    "    print(y_reshaped.get_shape())\n",
    "    # Softmax cross entropy loss\n",
    "    loss = tf.nn.softmax_cross_entropy_with_logits(logits=logits, labels=y_reshaped)\n",
    "    loss = tf.reduce_mean(loss)\n",
    "    return loss"
   ]
  },
  {
   "cell_type": "markdown",
   "metadata": {},
   "source": [
    "### Optimizer\n",
    "\n",
    "Here we build the optimizer. Normal RNNs have have issues gradients exploding and disappearing. LSTMs fix the disappearance problem, but the gradients can still grow without bound. To fix this, we can clip the gradients above some threshold. That is, if a gradient is larger than that threshold, we set it to the threshold. This will ensure the gradients never grow overly large. Then we use an AdamOptimizer for the learning step."
   ]
  },
  {
   "cell_type": "code",
   "execution_count": 17,
   "metadata": {
    "collapsed": true
   },
   "outputs": [],
   "source": [
    "def build_optimizer(loss, learning_rate, grad_clip):\n",
    "    ''' Build optmizer for training, using gradient clipping.\n",
    "    \n",
    "        Arguments:\n",
    "        loss: Network loss\n",
    "        learning_rate: Learning rate for optimizer\n",
    "    \n",
    "    '''\n",
    "    \n",
    "    # Optimizer for training, using gradient clipping to control exploding gradients\n",
    "    tvars = tf.trainable_variables()\n",
    "    grads, _ = tf.clip_by_global_norm(tf.gradients(loss, tvars), grad_clip)\n",
    "    train_op = tf.train.AdamOptimizer(learning_rate)\n",
    "    optimizer = train_op.apply_gradients(zip(grads, tvars))\n",
    "    \n",
    "    return optimizer"
   ]
  },
  {
   "cell_type": "markdown",
   "metadata": {},
   "source": [
    "### Build the network\n",
    "\n",
    "Now we can put all the pieces together and build a class for the network. To actually run data through the LSTM cells, we will use [`tf.nn.dynamic_rnn`](https://www.tensorflow.org/versions/r1.0/api_docs/python/tf/nn/dynamic_rnn). This function will pass the hidden and cell states across LSTM cells appropriately for us. It returns the outputs for each LSTM cell at each step for each sequence in the mini-batch. It also gives us the final LSTM state. We want to save this state as `final_state` so we can pass it to the first LSTM cell in the the next mini-batch run. For `tf.nn.dynamic_rnn`, we pass in the cell and initial state we get from `build_lstm`, as well as our input sequences. Also, we need to one-hot encode the inputs before going into the RNN. \n",
    "\n",
    "> **Exercise:** Use the functions you've implemented previously and `tf.nn.dynamic_rnn` to build the network."
   ]
  },
  {
   "cell_type": "code",
   "execution_count": 18,
   "metadata": {
    "collapsed": true
   },
   "outputs": [],
   "source": [
    "class CharRNN:\n",
    "    \n",
    "    def __init__(self, num_classes, batch_size=64, num_steps=50, \n",
    "                       lstm_size=128, num_layers=2, learning_rate=0.001, \n",
    "                       grad_clip=5, sampling=False):\n",
    "    \n",
    "        # When we're using this network for sampling later, we'll be passing in\n",
    "        # one character at a time, so providing an option for that\n",
    "        if sampling == True:\n",
    "            batch_size, num_steps = 1, 1\n",
    "        else:\n",
    "            batch_size, num_steps = batch_size, num_steps\n",
    "\n",
    "        tf.reset_default_graph()\n",
    "        \n",
    "        # Build the input placeholder tensors\n",
    "        self.inputs, self.targets, self.keep_prob = build_inputs(batch_size, num_steps)\n",
    "\n",
    "        # Build the LSTM cell\n",
    "        cell, self.initial_state = build_lstm(lstm_size, num_layers, batch_size, self.keep_prob)\n",
    "\n",
    "        ### Run the data through the RNN layers\n",
    "        # First, one-hot encode the input tokens\n",
    "        x_one_hot = tf.one_hot(self.inputs, num_classes)\n",
    "        \n",
    "        # Run each sequence step through the RNN with tf.nn.dynamic_rnn \n",
    "        outputs, state =tf.nn.dynamic_rnn(cell, x_one_hot, initial_state=self.initial_state)\n",
    "        self.final_state = state\n",
    "        \n",
    "        # Get softmax predictions and logits\n",
    "        self.prediction, self.logits = build_output(outputs, lstm_size, num_classes)\n",
    "        \n",
    "        # Loss and optimizer (with gradient clipping)\n",
    "        self.loss =  build_loss(self.logits, self.targets, lstm_size, num_classes)\n",
    "        self.optimizer = build_optimizer(self.loss, learning_rate, grad_clip)"
   ]
  },
  {
   "cell_type": "markdown",
   "metadata": {},
   "source": [
    "## Hyperparameters\n",
    "\n",
    "Here are the hyperparameters for the network.\n",
    "\n",
    "* `batch_size` - Number of sequences running through the network in one pass.\n",
    "* `num_steps` - Number of characters in the sequence the network is trained on. Larger is better typically, the network will learn more long range dependencies. But it takes longer to train. 100 is typically a good number here.\n",
    "* `lstm_size` - The number of units in the hidden layers.\n",
    "* `num_layers` - Number of hidden LSTM layers to use\n",
    "* `learning_rate` - Learning rate for training\n",
    "* `keep_prob` - The dropout keep probability when training. If you're network is overfitting, try decreasing this.\n",
    "\n",
    "Here's some good advice from Andrej Karpathy on training the network. I'm going to copy it in here for your benefit, but also link to [where it originally came from](https://github.com/karpathy/char-rnn#tips-and-tricks).\n",
    "\n",
    "> ## Tips and Tricks\n",
    "\n",
    ">### Monitoring Validation Loss vs. Training Loss\n",
    ">If you're somewhat new to Machine Learning or Neural Networks it can take a bit of expertise to get good models. The most important quantity to keep track of is the difference between your training loss (printed during training) and the validation loss (printed once in a while when the RNN is run on the validation data (by default every 1000 iterations)). In particular:\n",
    "\n",
    "> - If your training loss is much lower than validation loss then this means the network might be **overfitting**. Solutions to this are to decrease your network size, or to increase dropout. For example you could try dropout of 0.5 and so on.\n",
    "> - If your training/validation loss are about equal then your model is **underfitting**. Increase the size of your model (either number of layers or the raw number of neurons per layer)\n",
    "\n",
    "> ### Approximate number of parameters\n",
    "\n",
    "> The two most important parameters that control the model are `lstm_size` and `num_layers`. I would advise that you always use `num_layers` of either 2/3. The `lstm_size` can be adjusted based on how much data you have. The two important quantities to keep track of here are:\n",
    "\n",
    "> - The number of parameters in your model. This is printed when you start training.\n",
    "> - The size of your dataset. 1MB file is approximately 1 million characters.\n",
    "\n",
    ">These two should be about the same order of magnitude. It's a little tricky to tell. Here are some examples:\n",
    "\n",
    "> - I have a 100MB dataset and I'm using the default parameter settings (which currently print 150K parameters). My data size is significantly larger (100 mil >> 0.15 mil), so I expect to heavily underfit. I am thinking I can comfortably afford to make `lstm_size` larger.\n",
    "> - I have a 10MB dataset and running a 10 million parameter model. I'm slightly nervous and I'm carefully monitoring my validation loss. If it's larger than my training loss then I may want to try to increase dropout a bit and see if that helps the validation loss.\n",
    "\n",
    "> ### Best models strategy\n",
    "\n",
    ">The winning strategy to obtaining very good models (if you have the compute time) is to always err on making the network larger (as large as you're willing to wait for it to compute) and then try different dropout values (between 0,1). Whatever model has the best validation performance (the loss, written in the checkpoint filename, low is good) is the one you should use in the end.\n",
    "\n",
    ">It is very common in deep learning to run many different models with many different hyperparameter settings, and in the end take whatever checkpoint gave the best validation performance.\n",
    "\n",
    ">By the way, the size of your training and validation splits are also parameters. Make sure you have a decent amount of data in your validation set or otherwise the validation performance will be noisy and not very informative."
   ]
  },
  {
   "cell_type": "code",
   "execution_count": 19,
   "metadata": {
    "collapsed": true
   },
   "outputs": [],
   "source": [
    "batch_size = 100         # Sequences per batch\n",
    "num_steps = 100          # Number of sequence steps per batch\n",
    "lstm_size = 512         # Size of hidden layers in LSTMs\n",
    "num_layers = 2          # Number of LSTM layers\n",
    "learning_rate = 0.001    # Learning rate\n",
    "keep_prob = 0.5         # Dropout keep probability"
   ]
  },
  {
   "cell_type": "markdown",
   "metadata": {},
   "source": [
    "## Time for training\n",
    "\n",
    "This is typical training code, passing inputs and targets into the network, then running the optimizer. Here we also get back the final LSTM state for the mini-batch. Then, we pass that state back into the network so the next batch can continue the state from the previous batch. And every so often (set by `save_every_n`) I save a checkpoint.\n",
    "\n",
    "Here I'm saving checkpoints with the format\n",
    "\n",
    "`i{iteration number}_l{# hidden layer units}.ckpt`\n",
    "\n",
    "> **Exercise:** Set the hyperparameters above to train the network. Watch the training loss, it should be consistently dropping. Also, I highly advise running this on a GPU."
   ]
  },
  {
   "cell_type": "code",
   "execution_count": 22,
   "metadata": {
    "scrolled": true
   },
   "outputs": [
    {
     "name": "stdout",
     "output_type": "stream",
     "text": [
      "(100, 100, 83)\n",
      "(10000, 83)\n",
      "Epoch: 1/20...  Training Step: 1...  Training loss: 4.4192...  0.4618 sec/batch\n",
      "Epoch: 1/20...  Training Step: 51...  Training loss: 3.1260...  0.3830 sec/batch\n",
      "Epoch: 1/20...  Training Step: 101...  Training loss: 3.0124...  0.3910 sec/batch\n",
      "Epoch: 1/20...  Training Step: 151...  Training loss: 2.6229...  0.3920 sec/batch\n",
      "Epoch: 2/20...  Training Step: 201...  Training loss: 2.3968...  0.3969 sec/batch\n",
      "Epoch: 2/20...  Training Step: 251...  Training loss: 2.2892...  0.3920 sec/batch\n",
      "Epoch: 2/20...  Training Step: 301...  Training loss: 2.1752...  0.4109 sec/batch\n",
      "Epoch: 2/20...  Training Step: 351...  Training loss: 2.1195...  0.3880 sec/batch\n",
      "Epoch: 3/20...  Training Step: 401...  Training loss: 2.0405...  0.3929 sec/batch\n",
      "Epoch: 3/20...  Training Step: 451...  Training loss: 1.9673...  0.3911 sec/batch\n",
      "Epoch: 3/20...  Training Step: 501...  Training loss: 1.9114...  0.3900 sec/batch\n",
      "Epoch: 3/20...  Training Step: 551...  Training loss: 1.8686...  0.3939 sec/batch\n",
      "Epoch: 4/20...  Training Step: 601...  Training loss: 1.8371...  0.3940 sec/batch\n",
      "Epoch: 4/20...  Training Step: 651...  Training loss: 1.8127...  0.3890 sec/batch\n",
      "Epoch: 4/20...  Training Step: 701...  Training loss: 1.7557...  0.3870 sec/batch\n",
      "Epoch: 4/20...  Training Step: 751...  Training loss: 1.7443...  0.3890 sec/batch\n",
      "Epoch: 5/20...  Training Step: 801...  Training loss: 1.7458...  0.3939 sec/batch\n",
      "Epoch: 5/20...  Training Step: 851...  Training loss: 1.6581...  0.3901 sec/batch\n",
      "Epoch: 5/20...  Training Step: 901...  Training loss: 1.6755...  0.3949 sec/batch\n",
      "Epoch: 5/20...  Training Step: 951...  Training loss: 1.5975...  0.3960 sec/batch\n",
      "Epoch: 6/20...  Training Step: 1001...  Training loss: 1.5952...  0.3990 sec/batch\n",
      "Epoch: 6/20...  Training Step: 1051...  Training loss: 1.6088...  0.3960 sec/batch\n",
      "Epoch: 6/20...  Training Step: 1101...  Training loss: 1.5820...  0.3880 sec/batch\n",
      "Epoch: 6/20...  Training Step: 1151...  Training loss: 1.6045...  0.3890 sec/batch\n",
      "Epoch: 7/20...  Training Step: 1201...  Training loss: 1.5480...  0.3919 sec/batch\n",
      "Epoch: 7/20...  Training Step: 1251...  Training loss: 1.5800...  0.3911 sec/batch\n",
      "Epoch: 7/20...  Training Step: 1301...  Training loss: 1.5246...  0.3850 sec/batch\n",
      "Epoch: 7/20...  Training Step: 1351...  Training loss: 1.5369...  0.3950 sec/batch\n",
      "Epoch: 8/20...  Training Step: 1401...  Training loss: 1.4944...  0.3970 sec/batch\n",
      "Epoch: 8/20...  Training Step: 1451...  Training loss: 1.4953...  0.3870 sec/batch\n",
      "Epoch: 8/20...  Training Step: 1501...  Training loss: 1.4612...  0.3979 sec/batch\n",
      "Epoch: 8/20...  Training Step: 1551...  Training loss: 1.4819...  0.3911 sec/batch\n",
      "Epoch: 9/20...  Training Step: 1601...  Training loss: 1.4772...  0.4020 sec/batch\n",
      "Epoch: 9/20...  Training Step: 1651...  Training loss: 1.4790...  0.4618 sec/batch\n",
      "Epoch: 9/20...  Training Step: 1701...  Training loss: 1.4667...  0.3969 sec/batch\n",
      "Epoch: 9/20...  Training Step: 1751...  Training loss: 1.4592...  0.4000 sec/batch\n",
      "Epoch: 10/20...  Training Step: 1801...  Training loss: 1.4435...  0.4099 sec/batch\n",
      "Epoch: 10/20...  Training Step: 1851...  Training loss: 1.4363...  0.4049 sec/batch\n",
      "Epoch: 10/20...  Training Step: 1901...  Training loss: 1.4082...  0.4107 sec/batch\n",
      "Epoch: 10/20...  Training Step: 1951...  Training loss: 1.4209...  0.3930 sec/batch\n",
      "Epoch: 11/20...  Training Step: 2001...  Training loss: 1.3973...  0.3969 sec/batch\n",
      "Epoch: 11/20...  Training Step: 2051...  Training loss: 1.4493...  0.3899 sec/batch\n",
      "Epoch: 11/20...  Training Step: 2101...  Training loss: 1.3911...  0.3860 sec/batch\n",
      "Epoch: 11/20...  Training Step: 2151...  Training loss: 1.3805...  0.3989 sec/batch\n",
      "Epoch: 12/20...  Training Step: 2201...  Training loss: 1.3759...  0.3930 sec/batch\n",
      "Epoch: 12/20...  Training Step: 2251...  Training loss: 1.4132...  0.3959 sec/batch\n",
      "Epoch: 12/20...  Training Step: 2301...  Training loss: 1.3225...  0.3920 sec/batch\n",
      "Epoch: 12/20...  Training Step: 2351...  Training loss: 1.3883...  0.3900 sec/batch\n",
      "Epoch: 13/20...  Training Step: 2401...  Training loss: 1.3685...  0.4010 sec/batch\n",
      "Epoch: 13/20...  Training Step: 2451...  Training loss: 1.3525...  0.3920 sec/batch\n",
      "Epoch: 13/20...  Training Step: 2501...  Training loss: 1.3349...  0.3939 sec/batch\n",
      "Epoch: 13/20...  Training Step: 2551...  Training loss: 1.3497...  0.3910 sec/batch\n",
      "Epoch: 14/20...  Training Step: 2601...  Training loss: 1.2998...  0.3939 sec/batch\n",
      "Epoch: 14/20...  Training Step: 2651...  Training loss: 1.3272...  0.3929 sec/batch\n",
      "Epoch: 14/20...  Training Step: 2701...  Training loss: 1.3389...  0.3940 sec/batch\n",
      "Epoch: 14/20...  Training Step: 2751...  Training loss: 1.3150...  0.3929 sec/batch\n",
      "Epoch: 15/20...  Training Step: 2801...  Training loss: 1.3331...  0.4439 sec/batch\n",
      "Epoch: 15/20...  Training Step: 2851...  Training loss: 1.2704...  0.4328 sec/batch\n",
      "Epoch: 15/20...  Training Step: 2901...  Training loss: 1.2926...  0.3740 sec/batch\n",
      "Epoch: 15/20...  Training Step: 2951...  Training loss: 1.2849...  0.3939 sec/batch\n",
      "Epoch: 16/20...  Training Step: 3001...  Training loss: 1.2901...  0.4245 sec/batch\n",
      "Epoch: 16/20...  Training Step: 3051...  Training loss: 1.2751...  0.4009 sec/batch\n",
      "Epoch: 16/20...  Training Step: 3101...  Training loss: 1.2456...  0.4019 sec/batch\n",
      "Epoch: 16/20...  Training Step: 3151...  Training loss: 1.2741...  0.3740 sec/batch\n",
      "Epoch: 17/20...  Training Step: 3201...  Training loss: 1.2996...  0.3979 sec/batch\n",
      "Epoch: 17/20...  Training Step: 3251...  Training loss: 1.2568...  0.3950 sec/batch\n",
      "Epoch: 17/20...  Training Step: 3301...  Training loss: 1.3012...  0.3920 sec/batch\n",
      "Epoch: 17/20...  Training Step: 3351...  Training loss: 1.2762...  0.3929 sec/batch\n",
      "Epoch: 18/20...  Training Step: 3401...  Training loss: 1.2610...  0.4090 sec/batch\n",
      "Epoch: 18/20...  Training Step: 3451...  Training loss: 1.2504...  0.4024 sec/batch\n",
      "Epoch: 18/20...  Training Step: 3501...  Training loss: 1.2701...  0.3870 sec/batch\n",
      "Epoch: 18/20...  Training Step: 3551...  Training loss: 1.2558...  0.3860 sec/batch\n",
      "Epoch: 19/20...  Training Step: 3601...  Training loss: 1.2404...  0.3940 sec/batch\n",
      "Epoch: 19/20...  Training Step: 3651...  Training loss: 1.2436...  0.3884 sec/batch\n",
      "Epoch: 19/20...  Training Step: 3701...  Training loss: 1.2815...  0.3890 sec/batch\n",
      "Epoch: 19/20...  Training Step: 3751...  Training loss: 1.2859...  0.3870 sec/batch\n",
      "Epoch: 20/20...  Training Step: 3801...  Training loss: 1.2162...  0.3911 sec/batch\n",
      "Epoch: 20/20...  Training Step: 3851...  Training loss: 1.2266...  0.4049 sec/batch\n",
      "Epoch: 20/20...  Training Step: 3901...  Training loss: 1.2462...  0.4089 sec/batch\n",
      "Epoch: 20/20...  Training Step: 3951...  Training loss: 1.2427...  0.3940 sec/batch\n"
     ]
    }
   ],
   "source": [
    "epochs = 20\n",
    "# Save every N iterations\n",
    "save_every_n = 200\n",
    "\n",
    "model = CharRNN(len(vocab), batch_size=batch_size, num_steps=num_steps,\n",
    "                lstm_size=lstm_size, num_layers=num_layers, \n",
    "                learning_rate=learning_rate)\n",
    "\n",
    "saver = tf.train.Saver(max_to_keep=100)\n",
    "with tf.Session() as sess:\n",
    "    sess.run(tf.global_variables_initializer())\n",
    "    \n",
    "    # Use the line below to load a checkpoint and resume training\n",
    "    #saver.restore(sess, 'checkpoints/______.ckpt')\n",
    "    counter = 0\n",
    "    for e in range(epochs):\n",
    "        # Train network\n",
    "        new_state = sess.run(model.initial_state)\n",
    "        loss = 0\n",
    "        for x, y in get_batches(encoded, batch_size, num_steps):\n",
    "            counter += 1\n",
    "            start = time.time()\n",
    "            feed = {model.inputs: x,\n",
    "                    model.targets: y,\n",
    "                    model.keep_prob: keep_prob,\n",
    "                    model.initial_state: new_state}\n",
    "            batch_loss, new_state, _ = sess.run([model.loss, \n",
    "                                                 model.final_state, \n",
    "                                                 model.optimizer], \n",
    "                                                 feed_dict=feed)\n",
    "            \n",
    "            end = time.time()\n",
    "            if counter%50==1:\n",
    "                print('Epoch: {}/{}... '.format(e+1, epochs),\n",
    "                      'Training Step: {}... '.format(counter),\n",
    "                      'Training loss: {:.4f}... '.format(batch_loss),\n",
    "                      '{:.4f} sec/batch'.format((end-start)))\n",
    "        \n",
    "            if (counter % save_every_n == 0):\n",
    "                saver.save(sess, \"checkpoints/i{}_l{}.ckpt\".format(counter, lstm_size))\n",
    "    \n",
    "    saver.save(sess, \"checkpoints/i{}_l{}.ckpt\".format(counter, lstm_size))"
   ]
  },
  {
   "cell_type": "markdown",
   "metadata": {},
   "source": [
    "#### Saved checkpoints\n",
    "\n",
    "Read up on saving and loading checkpoints here: https://www.tensorflow.org/programmers_guide/variables"
   ]
  },
  {
   "cell_type": "code",
   "execution_count": 23,
   "metadata": {},
   "outputs": [
    {
     "data": {
      "text/plain": [
       "model_checkpoint_path: \"checkpoints\\\\i3960_l512.ckpt\"\n",
       "all_model_checkpoint_paths: \"checkpoints\\\\i200_l512.ckpt\"\n",
       "all_model_checkpoint_paths: \"checkpoints\\\\i400_l512.ckpt\"\n",
       "all_model_checkpoint_paths: \"checkpoints\\\\i600_l512.ckpt\"\n",
       "all_model_checkpoint_paths: \"checkpoints\\\\i800_l512.ckpt\"\n",
       "all_model_checkpoint_paths: \"checkpoints\\\\i1000_l512.ckpt\"\n",
       "all_model_checkpoint_paths: \"checkpoints\\\\i1200_l512.ckpt\"\n",
       "all_model_checkpoint_paths: \"checkpoints\\\\i1400_l512.ckpt\"\n",
       "all_model_checkpoint_paths: \"checkpoints\\\\i1600_l512.ckpt\"\n",
       "all_model_checkpoint_paths: \"checkpoints\\\\i1800_l512.ckpt\"\n",
       "all_model_checkpoint_paths: \"checkpoints\\\\i2000_l512.ckpt\"\n",
       "all_model_checkpoint_paths: \"checkpoints\\\\i2200_l512.ckpt\"\n",
       "all_model_checkpoint_paths: \"checkpoints\\\\i2400_l512.ckpt\"\n",
       "all_model_checkpoint_paths: \"checkpoints\\\\i2600_l512.ckpt\"\n",
       "all_model_checkpoint_paths: \"checkpoints\\\\i2800_l512.ckpt\"\n",
       "all_model_checkpoint_paths: \"checkpoints\\\\i3000_l512.ckpt\"\n",
       "all_model_checkpoint_paths: \"checkpoints\\\\i3200_l512.ckpt\"\n",
       "all_model_checkpoint_paths: \"checkpoints\\\\i3400_l512.ckpt\"\n",
       "all_model_checkpoint_paths: \"checkpoints\\\\i3600_l512.ckpt\"\n",
       "all_model_checkpoint_paths: \"checkpoints\\\\i3800_l512.ckpt\"\n",
       "all_model_checkpoint_paths: \"checkpoints\\\\i3960_l512.ckpt\""
      ]
     },
     "execution_count": 23,
     "metadata": {},
     "output_type": "execute_result"
    }
   ],
   "source": [
    "tf.train.get_checkpoint_state('checkpoints')"
   ]
  },
  {
   "cell_type": "markdown",
   "metadata": {},
   "source": [
    "## Sampling\n",
    "\n",
    "Now that the network is trained, we'll can use it to generate new text. The idea is that we pass in a character, then the network will predict the next character. We can use the new one, to predict the next one. And we keep doing this to generate all new text. I also included some functionality to prime the network with some text by passing in a string and building up a state from that.\n",
    "\n",
    "The network gives us predictions for each character. To reduce noise and make things a little less random, I'm going to only choose a new character from the top N most likely characters.\n",
    "\n"
   ]
  },
  {
   "cell_type": "code",
   "execution_count": 52,
   "metadata": {
    "collapsed": true
   },
   "outputs": [],
   "source": [
    "def pick_top_n(preds, vocab_size, top_n=5):\n",
    "    p = np.squeeze(preds)\n",
    "    # 用不到的softmax值设为0\n",
    "    p[np.argsort(p)[:-top_n]] = 0\n",
    "#     print('设为0',p)\n",
    "    # 归一化\n",
    "    p = p / np.sum(p)\n",
    "#     print('归一化',p)\n",
    "    # 根据概率分布p，取值\n",
    "    c = np.random.choice(vocab_size, 1, p=p)[0]\n",
    "#     print('c',c)\n",
    "    return c"
   ]
  },
  {
   "cell_type": "code",
   "execution_count": 53,
   "metadata": {
    "collapsed": true
   },
   "outputs": [],
   "source": [
    "def sample(checkpoint, n_samples, lstm_size, vocab_size, prime=\"The \"):\n",
    "    samples = [c for c in prime]\n",
    "    model = CharRNN(len(vocab), lstm_size=lstm_size, sampling=True)\n",
    "    saver = tf.train.Saver()\n",
    "    with tf.Session() as sess:\n",
    "        saver.restore(sess, checkpoint)\n",
    "        new_state = sess.run(model.initial_state)\n",
    "        for c in prime:\n",
    "            x = np.zeros((1, 1))\n",
    "            x[0,0] = vocab_to_int[c]\n",
    "            feed = {model.inputs: x,\n",
    "                    model.keep_prob: 1.,\n",
    "                    model.initial_state: new_state}\n",
    "            preds, new_state = sess.run([model.prediction, model.final_state], \n",
    "                                         feed_dict=feed)\n",
    "\n",
    "        c = pick_top_n(preds, len(vocab))\n",
    "        samples.append(int_to_vocab[c])\n",
    "\n",
    "        for i in range(n_samples):\n",
    "            x[0,0] = c\n",
    "            feed = {model.inputs: x,\n",
    "                    model.keep_prob: 1.,\n",
    "                    model.initial_state: new_state}\n",
    "            preds, new_state = sess.run([model.prediction, model.final_state], \n",
    "                                         feed_dict=feed)\n",
    "\n",
    "            c = pick_top_n(preds, len(vocab))\n",
    "            samples.append(int_to_vocab[c])\n",
    "        \n",
    "    return ''.join(samples)"
   ]
  },
  {
   "cell_type": "markdown",
   "metadata": {},
   "source": [
    "Here, pass in the path to a checkpoint and sample from the network."
   ]
  },
  {
   "cell_type": "code",
   "execution_count": 54,
   "metadata": {},
   "outputs": [
    {
     "data": {
      "text/plain": [
       "'checkpoints\\\\i3960_l512.ckpt'"
      ]
     },
     "execution_count": 54,
     "metadata": {},
     "output_type": "execute_result"
    }
   ],
   "source": [
    "tf.train.latest_checkpoint('checkpoints')"
   ]
  },
  {
   "cell_type": "code",
   "execution_count": 55,
   "metadata": {},
   "outputs": [
    {
     "name": "stdout",
     "output_type": "stream",
     "text": [
      "(1, 1, 83)\n",
      "(1, 83)\n",
      "INFO:tensorflow:Restoring parameters from checkpoints\\i3960_l512.ckpt\n",
      "Farnant. And\n",
      "in his feeling only that she could be abroad in his brain at the person\n",
      "thought of him. He had that strained healthy were the carriage as he had\n",
      "not to day that he had something standed on her, and they had suddenly\n",
      "stroven that some drive he had angrily feeling that, as he saw him.\n",
      "\n",
      "Stepan Arkadyevitch was a singer sharp about the door of the same\n",
      "pace of an acquaintance to strain the story at one another's eyes.\n",
      "And this she was not to but how she had been dressed both his\n",
      "forehead of his houses they were so sense of the children and his son,\n",
      "with the party time that they were completely terrible to him when Kenth sent to\n",
      "a servant as he was not still to talk about his feelings, and when\n",
      "she wene into a sickly proved; and the mother had so mareed his way in\n",
      "the chair, but the most complete of some will, which he had settened in\n",
      "always for sometimes.\n",
      "\n",
      "\"To she had anything because you don't\n",
      "succosed a croad and won't break, but we'll see him about\n",
      "him?\" answered Levin, straight to a descries of the soul\n",
      "was importanl hourify. He could, tristfully at the position were\n",
      "something was not to suppose her stream of thing, and to say which he\n",
      "was not.\n",
      "\n",
      "All the first table she was all the direction. And, with which\n",
      "he had said it as an offer who had been at once and with all that\n",
      "sensitive took her from the socie shoot they were coldling, with his hand\n",
      "of strange steps.\n",
      "\n",
      "\"The marshal, with the brothtring time in his father.\"\n",
      "\n",
      "She divided the back.\n",
      "\n",
      "\"What is it would be a secret of the sense! Why, I don't think it would\n",
      "have been telling him is!\" said the porter's life.\n",
      "\n",
      "\"You don't know? It, is any more at once, to say. I don't know what he was to\n",
      "do would be an official cross.\" She saw, and who could not be seat a\n",
      "deal tire or her. She saw to her to have to bring up a does where a sister\n",
      "where they are all the sounds of served opine of the properity of the\n",
      "solication of which they could not be at any other, howed him. He felt\n",
      "standing the sisters. And the sign of s\n"
     ]
    }
   ],
   "source": [
    "checkpoint = tf.train.latest_checkpoint('checkpoints')\n",
    "samp = sample(checkpoint, 2000, lstm_size, len(vocab), prime=\"Far\")\n",
    "print(samp)"
   ]
  },
  {
   "cell_type": "code",
   "execution_count": 28,
   "metadata": {},
   "outputs": [
    {
     "name": "stdout",
     "output_type": "stream",
     "text": [
      "(1, 1, 83)\n",
      "(1, 83)\n",
      "INFO:tensorflow:Restoring parameters from checkpoints/i200_l512.ckpt\n",
      "Far ast to the whang wome the sitit oud, thathe so serad at this and he ho carind tin her anle sor sat hir he wot he soule tho th as thor\n",
      "hime her toming tas tan hes on thes and ot has tor tase hot onte shos he sing\n",
      "alt at ant arerede he ho ser ole with at alt the\n",
      "thas her wos an af the wasd an atth win ond arderins he wha corling ha wersens wans\n",
      "tho ce thes hers, hat ond hom tha sat hit ans and\n",
      "wor the he tas has and ant of on hat hit\n",
      "hes hat thes at her thim she\n",
      "\n",
      "ous the win he his sas and afd an worisging thar wos he te sor sis on shand weme tat oud, ald has and, sat hithin the sote ar the han her ald oud to we her\n",
      "sart on this te wot the corerist whand sorloren, to hin thimins the ther tores sout,, and. \n",
      "Anled weme wes and ou satine\n",
      "she har sat ate hins an to whar the sout af on hor too shered ant hom ther wom\n",
      "tha the the sard the tha ther hom tho wan seed ou toos ale\n",
      "tor hing tor tout ar woth ale ans or tind thers thes tor sar oret the has tat har\n",
      "ang he hed ang he cherid wom sot has \n"
     ]
    }
   ],
   "source": [
    "checkpoint = 'checkpoints/i200_l512.ckpt'\n",
    "samp = sample(checkpoint, 1000, lstm_size, len(vocab), prime=\"Far\")\n",
    "print(samp)"
   ]
  },
  {
   "cell_type": "code",
   "execution_count": 29,
   "metadata": {},
   "outputs": [
    {
     "name": "stdout",
     "output_type": "stream",
     "text": [
      "(1, 1, 83)\n",
      "(1, 83)\n",
      "INFO:tensorflow:Restoring parameters from checkpoints/i600_l512.ckpt\n",
      "Fars of the pantess\n",
      "foo to the\n",
      "parires of the monter that the moren ande the sompalised of sithise the samor, and and all sticed to be so day to her were soul the condiston, wenly anouth somperting the same on the saind.\n",
      "\n",
      "\"Woll's this sone, and how a senting in a man and were to his a bout, she was a mone thit\n",
      "with if thoughted in ste atthinc on her. In whon heress intenter the sonnering at andat thim him.\n",
      "The pruchion with his say it wat so though as the back. And something that to\n",
      "thom it was tarking to the share. The same the pistous were that ther her sheath a strean on\n",
      "the\n",
      "mond of the pronsite of him,\" saik her hear here say hould\n",
      "but then shooked whingh he have beguling a prenitor her her. And he was nices, whele west he was not\n",
      "tere than shat has and some to be to bagh his been hourd had and, said to the compertation to see on the paress wook of the conting tare.\n",
      "\n",
      "\n",
      "\n",
      "Chapser I \n",
      "Therenter thought that was a senet, the said that he send ham,\n",
      "and would have a portow allating him, and th\n"
     ]
    }
   ],
   "source": [
    "checkpoint = 'checkpoints/i600_l512.ckpt'\n",
    "samp = sample(checkpoint, 1000, lstm_size, len(vocab), prime=\"Far\")\n",
    "print(samp)"
   ]
  },
  {
   "cell_type": "code",
   "execution_count": 30,
   "metadata": {},
   "outputs": [
    {
     "name": "stdout",
     "output_type": "stream",
     "text": [
      "(1, 1, 83)\n",
      "(1, 83)\n",
      "INFO:tensorflow:Restoring parameters from checkpoints/i1200_l512.ckpt\n",
      "Farred their. In her take to be\n",
      "despicted and seemed\n",
      "about him this some sheel.\n",
      "\n",
      "\"You've alloss the call a good and something at to back to\n",
      "teer the mother of him. They were a goornation.\"\n",
      "\n",
      "\"I don't kean her,\"\n",
      "answered, \"Went to me, all. The country,, she's not all a partion,\" said Stepan Arkadyevitch and that the striet off our of the caunt had answer he was the bect to have a get a talked\n",
      "to be such so that that she had at once shide him to\n",
      "his wealth to\n",
      "him in a peace a candlace would have she thought\n",
      "that she talking a some of his stens and his wond, and so with his had a growarder. How he could not some any the caul treet to the streat of the could nat happened it we to that she could not say, what he deat to be, too, steps and\n",
      "asked, and had been at his head him in a semont off with a man\n",
      "to his hand, and had not have\n",
      "her, with still with a mad that seen alwny, that it was her always\n",
      "samping that his stare and he could\n",
      "not look at the crild to all stritked, and all the stracgeror, wa\n"
     ]
    }
   ],
   "source": [
    "checkpoint = 'checkpoints/i1200_l512.ckpt'\n",
    "samp = sample(checkpoint, 1000, lstm_size, len(vocab), prime=\"Far\")\n",
    "print(samp)"
   ]
  },
  {
   "cell_type": "code",
   "execution_count": null,
   "metadata": {
    "collapsed": true
   },
   "outputs": [],
   "source": []
  }
 ],
 "metadata": {
  "kernelspec": {
   "display_name": "Python 3",
   "language": "python",
   "name": "python3"
  },
  "language_info": {
   "codemirror_mode": {
    "name": "ipython",
    "version": 3
   },
   "file_extension": ".py",
   "mimetype": "text/x-python",
   "name": "python",
   "nbconvert_exporter": "python",
   "pygments_lexer": "ipython3",
   "version": "3.6.6"
  }
 },
 "nbformat": 4,
 "nbformat_minor": 2
}
